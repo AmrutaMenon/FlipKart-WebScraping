{
 "cells": [
  {
   "cell_type": "markdown",
   "metadata": {},
   "source": [
    "# WebScrapping MacBook deatils from Flipkart"
   ]
  },
  {
   "cell_type": "code",
   "execution_count": 1,
   "metadata": {},
   "outputs": [],
   "source": [
    "#importing required packages\n",
    "\n",
    "import requests\n",
    "from bs4 import BeautifulSoup\n",
    "import pandas as pd\n",
    "import time\n",
    "from IPython.display import clear_output"
   ]
  },
  {
   "cell_type": "code",
   "execution_count": 2,
   "metadata": {},
   "outputs": [
    {
     "name": "stdout",
     "output_type": "stream",
     "text": [
      "Scrapping for 2 page\n"
     ]
    }
   ],
   "source": [
    "ITEM_NAME=[]\n",
    "ITEM_PRICE=[]\n",
    "ITEM_STARS=[]\n",
    "ITEM_FEATURES=[]\n",
    "ITEM_RATINGS=[]\n",
    "ITEM_REVIEW=[]\n",
    "\n",
    "base_url='https://www.flipkart.com/search?q=macbook&sid=6bo%2Cb5g&as=on&as-show=on&otracker=AS_QueryStore_OrganicAutoSuggest_1_3_na_na_na&otracker1=AS_QueryStore_OrganicAutoSuggest_1_3_na_na_na&as-pos=1&as-type=RECENT&suggestionId=macbook%7CLaptops&requestId=928af109-6da9-4818-b1c3-61e0629d69e3&as-backfill=on'\n",
    "\n",
    "\n",
    "for i in range(1,3):\n",
    "    \n",
    "    time.sleep(3)\n",
    "    print(f'Scrapping for {i} page')\n",
    "    clear_output(wait=True)\n",
    "    \n",
    "    url=base_url+'&page='+str(i)\n",
    "    req=requests.get(url)\n",
    "    soup=BeautifulSoup(req.text,'html')\n",
    "    \n",
    "    item=soup.findAll('div',attrs={'class':'_4rR01T'})     #item name\n",
    "    for j in item:\n",
    "        ITEM_NAME.append(j.text)\n",
    "        \n",
    "    pric=soup.findAll('div',attrs={'class':'_30jeq3 _1_WHN1'})   #price\n",
    "    for k in pric:\n",
    "        ITEM_PRICE.append(k.text)\n",
    "        \n",
    "    star=soup.findAll('span',attrs={'class':'_1lRcqv'})        #stars\n",
    "    for m in star:\n",
    "        ITEM_STARS.append(m.text)\n",
    "    \n",
    "    featr=soup.findAll('ul',attrs={'class':'_1xgFaf'})      #features\n",
    "    for l in featr:\n",
    "        ITEM_FEATURES.append(l.text)\n",
    "        \n",
    "    r_r=soup.findAll('span',attrs={'class':'_2_R_DZ'})    #ratings and reviews\n",
    "    a_l=[]\n",
    "    for m in r_r:\n",
    "        a_l.append(m.span.findAll('span'))\n",
    "        \n",
    "    for m,o,p in a_l:\n",
    "        ITEM_RATINGS.append(m.text)\n",
    "        ITEM_REVIEW.append(p.text)"
   ]
  },
  {
   "cell_type": "code",
   "execution_count": 6,
   "metadata": {},
   "outputs": [
    {
     "name": "stdout",
     "output_type": "stream",
     "text": [
      "                                            ITEM_NAME ITEM_PRICE  \\\n",
      "0   APPLE MacBook Air M1 - (8 GB/256 GB SSD/Mac OS...    ₹92,900   \n",
      "1   APPLE MacBook Air M1 - (8 GB/256 GB SSD/Mac OS...    ₹92,900   \n",
      "2   APPLE MacBook Air M1 - (8 GB/512 GB SSD/Mac OS...  ₹1,14,990   \n",
      "3   APPLE MacBook Air M1 - (8 GB/512 GB SSD/Mac OS...  ₹1,14,990   \n",
      "4   APPLE MacBook Air Core i5 10th Gen - (8 GB/512...    ₹99,990   \n",
      "5   APPLE MacBook Air Core i5 10th Gen - (8 GB/256...    ₹92,990   \n",
      "6   APPLE MacBook Air Core i5 10th Gen - (8 GB/512...  ₹1,09,990   \n",
      "7   APPLE MacBook Air M1 - (8 GB/512 GB SSD/Mac OS...  ₹1,14,990   \n",
      "8   APPLE MacBook Pro M1 - (8 GB/512 GB SSD/Mac OS...  ₹1,39,990   \n",
      "9   APPLE MacBook Pro M1 - (8 GB/256 GB SSD/Mac OS...  ₹1,18,990   \n",
      "10  APPLE MacBook Pro Core i7 9th Gen - (16 GB/512...  ₹1,84,990   \n",
      "11  APPLE MacBook Pro M1 - (8 GB/256 GB SSD/Mac OS...  ₹1,16,990   \n",
      "12  APPLE MacBook Pro Core i9 9th Gen - (16 GB/1 T...  ₹2,24,990   \n",
      "13  APPLE MacBook Pro Core i7 9th Gen - (16 GB/512...  ₹1,99,900   \n",
      "14  APPLE MacBook Pro Core i9 9th Gen - (16 GB/1 T...  ₹2,24,990   \n",
      "15  APPLE MacBook Pro Core i5 8th Gen - (8 GB/512 ...  ₹1,69,990   \n",
      "16  APPLE MacBook Pro M1 - (8 GB/512 GB SSD/Mac OS...  ₹1,39,990   \n",
      "17  APPLE MacBook Pro Core i5 8th Gen - (8 GB/512 ...  ₹1,13,990   \n",
      "18  APPLE MacBook Pro with Touch Bar Core i5 8th G...    ₹98,990   \n",
      "19  APPLE MacBook Pro with Touch Bar Core i5 10th ...  ₹1,69,990   \n",
      "20  APPLE MacBook Pro with Touch Bar Core i5 10th ...  ₹1,69,990   \n",
      "21  APPLE MacBook Pro with Touch Bar Core i5 10th ...  ₹1,74,900   \n",
      "22  APPLE MacBook Pro with Touch Bar Core i5 8th G...  ₹1,32,990   \n",
      "23  APPLE MacBook Pro with Touch Bar Core i5 10th ...  ₹1,74,900   \n",
      "\n",
      "                                        ITEM_FEATURES ITEM_STARS  \\\n",
      "0   Apple M1 Processor8 GB DDR4 RAMMac OS Operatin...        4.7   \n",
      "1   Apple M1 Processor8 GB DDR4 RAMMac OS Operatin...        4.7   \n",
      "2   Apple M1 Processor8 GB DDR4 RAMMac OS Operatin...        4.7   \n",
      "3   Apple M1 Processor8 GB DDR4 RAMMac OS Operatin...        4.7   \n",
      "4   Intel Core i5 Processor (10th Gen)8 GB LPDDR4X...        4.5   \n",
      "5   Intel Core i5 Processor (10th Gen)8 GB LPDDR4X...        4.5   \n",
      "6   Intel Core i5 Processor (10th Gen)8 GB LPDDR4X...        4.5   \n",
      "7   Apple M1 Processor8 GB DDR4 RAMMac OS Operatin...        4.7   \n",
      "8   Apple M1 Processor8 GB DDR4 RAMMac OS Operatin...        4.8   \n",
      "9   Apple M1 Processor8 GB DDR4 RAMMac OS Operatin...        4.8   \n",
      "10  Intel Core i7 Processor (9th Gen)16 GB DDR4 RA...        4.7   \n",
      "11  Apple M1 Processor8 GB DDR4 RAMMac OS Operatin...        4.8   \n",
      "12  Intel Core i9 Processor (9th Gen)16 GB DDR4 RA...        4.7   \n",
      "13  Intel Core i7 Processor (9th Gen)16 GB DDR4 RA...        4.4   \n",
      "14  Intel Core i9 Processor (9th Gen)16 GB DDR4 RA...        4.3   \n",
      "15  Intel Core i5 Processor (8th Gen)8 GB DDR3 RAM...        4.3   \n",
      "16  Apple M1 Processor8 GB DDR4 RAMMac OS Operatin...        4.8   \n",
      "17  Intel Core i5 Processor (8th Gen)8 GB DDR3 RAM...        4.3   \n",
      "18  Intel Core i5 Processor (8th Gen)8 GB LPDDR3 R...        4.6   \n",
      "19  Intel Core i5 Processor (10th Gen)16 GB LPDDR4...        4.7   \n",
      "20  Intel Core i5 Processor (10th Gen)16 GB LPDDR4...        4.5   \n",
      "21  Intel Core i5 Processor (10th Gen)16 GB LPDDR4...        4.7   \n",
      "22  Intel Core i5 Processor (8th Gen)8 GB LPDDR3 R...        4.6   \n",
      "23  Intel Core i5 Processor (10th Gen)16 GB LPDDR4...        4.8   \n",
      "\n",
      "    ITEM_RATINGS  ITEM_REVIEW  \n",
      "0   733 Ratings    95 Reviews  \n",
      "1   733 Ratings    95 Reviews  \n",
      "2   186 Ratings    22 Reviews  \n",
      "3   186 Ratings    22 Reviews  \n",
      "4   378 Ratings    23 Reviews  \n",
      "5   378 Ratings    23 Reviews  \n",
      "6   378 Ratings    23 Reviews  \n",
      "7   186 Ratings    22 Reviews  \n",
      "8    94 Ratings    10 Reviews  \n",
      "9   155 Ratings    19 Reviews  \n",
      "10  357 Ratings    43 Reviews  \n",
      "11  155 Ratings    19 Reviews  \n",
      "12  146 Ratings    14 Reviews  \n",
      "13   41 Ratings     5 Reviews  \n",
      "14   39 Ratings     3 Reviews  \n",
      "15  109 Ratings    13 Reviews  \n",
      "16   94 Ratings    10 Reviews  \n",
      "17  109 Ratings    13 Reviews  \n",
      "18  247 Ratings    35 Reviews  \n",
      "19  192 Ratings    23 Reviews  \n",
      "20   31 Ratings     5 Reviews  \n",
      "21   32 Ratings     2 Reviews  \n",
      "22   17 Ratings     1 Reviews  \n",
      "23   98 Ratings     5 Reviews  \n"
     ]
    }
   ],
   "source": [
    "#creating DataFrames\n",
    "\n",
    "data=pd.DataFrame({'ITEM_NAME':ITEM_NAME,\n",
    "                   'ITEM_PRICE':ITEM_PRICE,\n",
    "                   'ITEM_FEATURES':ITEM_FEATURES,\n",
    "                   'ITEM_STARS':ITEM_STARS,\n",
    "                   'ITEM_RATINGS':ITEM_RATINGS,\n",
    "                   'ITEM_REVIEW':ITEM_REVIEW})\n",
    "print(data)"
   ]
  },
  {
   "cell_type": "code",
   "execution_count": 7,
   "metadata": {},
   "outputs": [],
   "source": [
    "data.to_csv('Flipkart_Scrapped_data.csv',index=False)"
   ]
  },
  {
   "cell_type": "code",
   "execution_count": null,
   "metadata": {},
   "outputs": [],
   "source": []
  },
  {
   "cell_type": "code",
   "execution_count": null,
   "metadata": {},
   "outputs": [],
   "source": []
  },
  {
   "cell_type": "code",
   "execution_count": null,
   "metadata": {},
   "outputs": [],
   "source": []
  },
  {
   "cell_type": "code",
   "execution_count": null,
   "metadata": {},
   "outputs": [],
   "source": []
  },
  {
   "cell_type": "code",
   "execution_count": null,
   "metadata": {},
   "outputs": [],
   "source": []
  },
  {
   "cell_type": "code",
   "execution_count": null,
   "metadata": {},
   "outputs": [],
   "source": []
  },
  {
   "cell_type": "code",
   "execution_count": null,
   "metadata": {},
   "outputs": [],
   "source": []
  },
  {
   "cell_type": "code",
   "execution_count": null,
   "metadata": {},
   "outputs": [],
   "source": []
  }
 ],
 "metadata": {
  "kernelspec": {
   "display_name": "Python 3",
   "language": "python",
   "name": "python3"
  },
  "language_info": {
   "codemirror_mode": {
    "name": "ipython",
    "version": 3
   },
   "file_extension": ".py",
   "mimetype": "text/x-python",
   "name": "python",
   "nbconvert_exporter": "python",
   "pygments_lexer": "ipython3",
   "version": "3.8.3"
  }
 },
 "nbformat": 4,
 "nbformat_minor": 4
}
